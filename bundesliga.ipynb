{
 "cells": [
  {
   "cell_type": "markdown",
   "id": "23d84aae-dd41-44d3-931a-aab6f8b30f74",
   "metadata": {},
   "source": [
    "### 1. Imports"
   ]
  },
  {
   "cell_type": "code",
   "execution_count": 5,
   "id": "f3042c07-dad2-42ad-85b1-fbeb0f1215cf",
   "metadata": {},
   "outputs": [],
   "source": [
    "import requests\n",
    "import json\n",
    "import pandas as pd"
   ]
  },
  {
   "cell_type": "markdown",
   "id": "eebc4be8-07f7-4c39-a658-77d761a35906",
   "metadata": {},
   "source": [
    "### 2. Get Data"
   ]
  },
  {
   "cell_type": "code",
   "execution_count": 6,
   "id": "e3db4d0e-92db-4a8c-beaa-2707afcc7077",
   "metadata": {},
   "outputs": [],
   "source": [
    "uri = 'https://api.football-data.org/v4/competitions/BL1/matches?season=2020'\n",
    "headers = {'X-Auth-Token': '941e5424e9374e28817b075859d2867c'}"
   ]
  },
  {
   "cell_type": "code",
   "execution_count": 7,
   "id": "d4042f11-b931-4ffc-9e60-f40001b46ded",
   "metadata": {},
   "outputs": [],
   "source": [
    "response = requests.get(uri, headers=headers)"
   ]
  },
  {
   "cell_type": "code",
   "execution_count": 8,
   "id": "095870da-b939-4b97-9327-11fdd016c474",
   "metadata": {},
   "outputs": [],
   "source": [
    "df = pd.DataFrame.from_dict(response.json().items())"
   ]
  },
  {
   "cell_type": "code",
   "execution_count": 9,
   "id": "250aa978-b287-4259-999e-782b353e5393",
   "metadata": {},
   "outputs": [],
   "source": [
    "df.rename(columns={0: 'item', 1: 'entry'}, inplace=True)"
   ]
  },
  {
   "cell_type": "code",
   "execution_count": 10,
   "id": "a9c93858-2efc-44ac-9bf5-8a8fbe78b509",
   "metadata": {},
   "outputs": [
    {
     "data": {
      "text/html": [
       "<div>\n",
       "<style scoped>\n",
       "    .dataframe tbody tr th:only-of-type {\n",
       "        vertical-align: middle;\n",
       "    }\n",
       "\n",
       "    .dataframe tbody tr th {\n",
       "        vertical-align: top;\n",
       "    }\n",
       "\n",
       "    .dataframe thead th {\n",
       "        text-align: right;\n",
       "    }\n",
       "</style>\n",
       "<table border=\"1\" class=\"dataframe\">\n",
       "  <thead>\n",
       "    <tr style=\"text-align: right;\">\n",
       "      <th></th>\n",
       "      <th>item</th>\n",
       "      <th>entry</th>\n",
       "    </tr>\n",
       "  </thead>\n",
       "  <tbody>\n",
       "    <tr>\n",
       "      <th>0</th>\n",
       "      <td>message</td>\n",
       "      <td>Your API token is invalid.</td>\n",
       "    </tr>\n",
       "    <tr>\n",
       "      <th>1</th>\n",
       "      <td>errorCode</td>\n",
       "      <td>400</td>\n",
       "    </tr>\n",
       "  </tbody>\n",
       "</table>\n",
       "</div>"
      ],
      "text/plain": [
       "        item                       entry\n",
       "0    message  Your API token is invalid.\n",
       "1  errorCode                         400"
      ]
     },
     "execution_count": 10,
     "metadata": {},
     "output_type": "execute_result"
    }
   ],
   "source": [
    "df"
   ]
  },
  {
   "cell_type": "markdown",
   "id": "79c496b1-21aa-4886-9062-2d9340a211ec",
   "metadata": {},
   "source": [
    "### 3. Extract relevant data - OLD"
   ]
  },
  {
   "cell_type": "code",
   "execution_count": 85,
   "id": "03627387-c656-47e2-956c-d320e66b3912",
   "metadata": {},
   "outputs": [],
   "source": [
    "home_team = df.iloc[3, 1][0]['homeTeam']['name']\n",
    "away_team = df.iloc[3, 1][0]['awayTeam']['name']\n",
    "score_home = df.iloc[3, 1][0]['score']['fullTime']['home']\n",
    "score_away = df.iloc[3, 1][0]['score']['fullTime']['away']\n",
    "winner = df.iloc[3, 1][0]['season']['winner']['name']"
   ]
  },
  {
   "cell_type": "code",
   "execution_count": 99,
   "id": "79a966b2-b4c5-4661-a463-e1213242d8ac",
   "metadata": {
    "collapsed": true,
    "jupyter": {
     "outputs_hidden": true
    },
    "tags": []
   },
   "outputs": [
    {
     "data": {
      "text/plain": [
       "{'area': {'id': 2088,\n",
       "  'name': 'Germany',\n",
       "  'code': 'DEU',\n",
       "  'flag': 'https://crests.football-data.org/759.svg'},\n",
       " 'competition': {'id': 2002,\n",
       "  'name': 'Bundesliga',\n",
       "  'code': 'BL1',\n",
       "  'type': 'LEAGUE',\n",
       "  'emblem': 'https://crests.football-data.org/BL1.png'},\n",
       " 'season': {'id': 599,\n",
       "  'startDate': '2020-09-18',\n",
       "  'endDate': '2021-05-22',\n",
       "  'currentMatchday': 34,\n",
       "  'winner': {'id': 5,\n",
       "   'name': 'FC Bayern München',\n",
       "   'shortName': 'Bayern',\n",
       "   'tla': 'FCB',\n",
       "   'crest': 'https://crests.football-data.org/5.svg',\n",
       "   'address': 'Säbenerstr. 51 München 81547',\n",
       "   'website': 'http://www.fcbayern.de',\n",
       "   'founded': 1900,\n",
       "   'clubColors': 'Red / White / Blue',\n",
       "   'venue': 'Allianz Arena',\n",
       "   'lastUpdated': '2021-12-16T18:52:55Z'}},\n",
       " 'id': 303007,\n",
       " 'utcDate': '2020-09-18T18:30:00Z',\n",
       " 'status': 'FINISHED',\n",
       " 'matchday': 1,\n",
       " 'stage': 'REGULAR_SEASON',\n",
       " 'group': 'Regular Season',\n",
       " 'lastUpdated': '2020-10-03T07:30:16Z',\n",
       " 'homeTeam': {'id': 5,\n",
       "  'name': 'FC Bayern München',\n",
       "  'shortName': 'Bayern',\n",
       "  'tla': 'FCB',\n",
       "  'crest': 'https://crests.football-data.org/5.svg'},\n",
       " 'awayTeam': {'id': 6,\n",
       "  'name': 'FC Schalke 04',\n",
       "  'shortName': 'Schalke',\n",
       "  'tla': 'S04',\n",
       "  'crest': 'https://crests.football-data.org/6.png'},\n",
       " 'score': {'winner': 'HOME_TEAM',\n",
       "  'duration': 'REGULAR',\n",
       "  'fullTime': {'home': 8, 'away': 0},\n",
       "  'halfTime': {'home': 3, 'away': 0}},\n",
       " 'odds': {'msg': 'Activate Odds-Package in User-Panel to retrieve odds.'},\n",
       " 'referees': [{'id': 43878,\n",
       "   'name': 'Felix Zwayer',\n",
       "   'type': 'REFEREE',\n",
       "   'nationality': 'Germany'},\n",
       "  {'id': 43923,\n",
       "   'name': 'Thorsten Schiffner',\n",
       "   'type': 'REFEREE',\n",
       "   'nationality': 'Germany'},\n",
       "  {'id': 43879,\n",
       "   'name': 'Marco Achmüller',\n",
       "   'type': 'REFEREE',\n",
       "   'nationality': 'Germany'},\n",
       "  {'id': 57517,\n",
       "   'name': 'Daniel Schlager',\n",
       "   'type': 'REFEREE',\n",
       "   'nationality': 'Germany'},\n",
       "  {'id': 57539,\n",
       "   'name': 'Tobias Welz',\n",
       "   'type': 'REFEREE',\n",
       "   'nationality': 'Germany'}]}"
      ]
     },
     "execution_count": 99,
     "metadata": {},
     "output_type": "execute_result"
    }
   ],
   "source": [
    "df.iloc[3, 1][0]"
   ]
  },
  {
   "cell_type": "markdown",
   "id": "dd7070ae-b4c1-41ba-bcc9-a30e9bbe59c5",
   "metadata": {},
   "source": [
    "### 3. Get user input "
   ]
  },
  {
   "cell_type": "code",
   "execution_count": 11,
   "id": "809220ad-3303-48ed-a5e9-edb31e34f071",
   "metadata": {},
   "outputs": [],
   "source": [
    "# Create dict of available teams\n",
    "team_dict = {'bayern': 40,\n",
    "             'dortmund': 7}"
   ]
  },
  {
   "cell_type": "code",
   "execution_count": 13,
   "id": "a1f3efdf-d993-44e7-bf16-8987ebc2114f",
   "metadata": {},
   "outputs": [
    {
     "name": "stdin",
     "output_type": "stream",
     "text": [
      "What's the name of the home team? bayern\n"
     ]
    }
   ],
   "source": [
    "home_team = input(\"What's the name of the home team?\")\n",
    "home_team = home_team.lower()"
   ]
  },
  {
   "cell_type": "code",
   "execution_count": 51,
   "id": "2545a8d1-f4bc-4588-af57-f5bc1c31355b",
   "metadata": {
    "tags": []
   },
   "outputs": [
    {
     "name": "stdin",
     "output_type": "stream",
     "text": [
      "What's the name of the away team? dortmund\n"
     ]
    }
   ],
   "source": [
    "away_team = input(\"What's the name of the away team?\")\n",
    "away_team = away_team.lower()"
   ]
  },
  {
   "cell_type": "code",
   "execution_count": 52,
   "id": "5a970af4-0614-4227-81c6-80c6710b75cd",
   "metadata": {},
   "outputs": [],
   "source": [
    "# Check if team exists\n",
    "def check_team(home_team, away_team, team_dict):\n",
    "    if home_team in team_dict and away_team in team_dict:\n",
    "        home = team_dict[home_team]\n",
    "        away = team_dict[away_team]\n",
    "        return home, away\n",
    "    else:\n",
    "        return None, None"
   ]
  },
  {
   "cell_type": "code",
   "execution_count": 53,
   "id": "a252d306-f811-4ceb-aece-444ab59ce0bd",
   "metadata": {},
   "outputs": [],
   "source": [
    "home, away = check_team(home_team, away_team, team_dict)"
   ]
  },
  {
   "cell_type": "markdown",
   "id": "247e41d2-ee08-4e86-acab-b7041a93f23c",
   "metadata": {},
   "source": [
    "### 4. API call and get the data"
   ]
  },
  {
   "cell_type": "code",
   "execution_count": null,
   "id": "781c2083-45c8-4a18-9a5c-ededd6f7426d",
   "metadata": {},
   "outputs": [],
   "source": [
    "team_dict = {'BAYERN': 40,\n",
    "             'DORTMUND': 7}"
   ]
  },
  {
   "cell_type": "code",
   "execution_count": null,
   "id": "3cc1776d-e5d2-4df9-a653-e7d7f6281a70",
   "metadata": {},
   "outputs": [
    {
     "data": {
      "text/plain": [
       "7"
      ]
     },
     "execution_count": 138,
     "metadata": {},
     "output_type": "execute_result"
    }
   ],
   "source": [
    "team_dict['DORTMUND']"
   ]
  },
  {
   "cell_type": "code",
   "execution_count": null,
   "id": "1e8c10bd-b4c2-4954-89eb-23aa73208f8a",
   "metadata": {},
   "outputs": [],
   "source": []
  },
  {
   "cell_type": "code",
   "execution_count": 132,
   "id": "eb69a3a4-bb62-4d67-981c-f47feb88eb57",
   "metadata": {},
   "outputs": [
    {
     "name": "stdin",
     "output_type": "stream",
     "text": [
      " 7\n"
     ]
    },
    {
     "name": "stdout",
     "output_type": "stream",
     "text": [
      "7\n"
     ]
    }
   ],
   "source": [
    "home_team = input()\n",
    "print(home_team)"
   ]
  },
  {
   "cell_type": "code",
   "execution_count": 133,
   "id": "08767909-89e4-4f3a-9b06-a84df221a371",
   "metadata": {},
   "outputs": [
    {
     "data": {
      "text/plain": [
       "'7'"
      ]
     },
     "execution_count": 133,
     "metadata": {},
     "output_type": "execute_result"
    }
   ],
   "source": [
    "home_team"
   ]
  },
  {
   "cell_type": "code",
   "execution_count": 131,
   "id": "ec58827c-480c-40ef-bc0f-0e6bed1ab3d2",
   "metadata": {},
   "outputs": [],
   "source": [
    "url = 'https://api.openligadb.de/getmatchdata/40/7'\n",
    "response = requests.get(url)"
   ]
  },
  {
   "cell_type": "code",
   "execution_count": 130,
   "id": "dbfee717-c9c2-44c7-b656-e780c1842a9a",
   "metadata": {
    "collapsed": true,
    "jupyter": {
     "outputs_hidden": true
    },
    "tags": []
   },
   "outputs": [
    {
     "data": {
      "text/plain": [
       "{'matchID': 63864,\n",
       " 'matchDateTime': '2022-08-05T20:30:00',\n",
       " 'timeZoneID': 'W. Europe Standard Time',\n",
       " 'leagueId': 4562,\n",
       " 'leagueName': '1. Fußball-Bundesliga 2022/2023',\n",
       " 'leagueSeason': 2022,\n",
       " 'leagueShortcut': 'bl1',\n",
       " 'matchDateTimeUTC': '2022-08-05T18:30:00Z',\n",
       " 'group': {'groupName': '1. Spieltag', 'groupOrderID': 1, 'groupID': 39881},\n",
       " 'team1': {'teamId': 91,\n",
       "  'teamName': 'Eintracht Frankfurt',\n",
       "  'shortName': 'Frankfurt',\n",
       "  'teamIconUrl': 'https://i.imgur.com/X8NFkOb.png',\n",
       "  'teamGroupName': None},\n",
       " 'team2': {'teamId': 40,\n",
       "  'teamName': 'FC Bayern München',\n",
       "  'shortName': 'Bayern',\n",
       "  'teamIconUrl': 'https://i.imgur.com/jJEsJrj.png',\n",
       "  'teamGroupName': None},\n",
       " 'lastUpdateDateTime': '2022-08-14T09:42:12.96',\n",
       " 'matchIsFinished': True,\n",
       " 'matchResults': [{'resultID': 98425,\n",
       "   'resultName': 'Endergebnis',\n",
       "   'pointsTeam1': 1,\n",
       "   'pointsTeam2': 6,\n",
       "   'resultOrderID': 1,\n",
       "   'resultTypeID': 2,\n",
       "   'resultDescription': 'Ergebnis nach Ende der offiziellen Spielzeit'},\n",
       "  {'resultID': 98426,\n",
       "   'resultName': 'Halbzeit',\n",
       "   'pointsTeam1': 0,\n",
       "   'pointsTeam2': 5,\n",
       "   'resultOrderID': 2,\n",
       "   'resultTypeID': 1,\n",
       "   'resultDescription': 'Zwischenstand zur Halbzeit'}],\n",
       " 'goals': [{'goalID': 95046,\n",
       "   'scoreTeam1': 0,\n",
       "   'scoreTeam2': 1,\n",
       "   'matchMinute': 5,\n",
       "   'goalGetterID': 14935,\n",
       "   'goalGetterName': ' Kimmich',\n",
       "   'isPenalty': False,\n",
       "   'isOwnGoal': False,\n",
       "   'isOvertime': False,\n",
       "   'comment': None},\n",
       "  {'goalID': 95047,\n",
       "   'scoreTeam1': 0,\n",
       "   'scoreTeam2': 2,\n",
       "   'matchMinute': 11,\n",
       "   'goalGetterID': 16143,\n",
       "   'goalGetterName': 'Pavard',\n",
       "   'isPenalty': False,\n",
       "   'isOwnGoal': False,\n",
       "   'isOvertime': False,\n",
       "   'comment': None},\n",
       "  {'goalID': 95049,\n",
       "   'scoreTeam1': 0,\n",
       "   'scoreTeam2': 3,\n",
       "   'matchMinute': 16,\n",
       "   'goalGetterID': 14661,\n",
       "   'goalGetterName': 'Mane',\n",
       "   'isPenalty': False,\n",
       "   'isOwnGoal': False,\n",
       "   'isOvertime': False,\n",
       "   'comment': None},\n",
       "  {'goalID': 95053,\n",
       "   'scoreTeam1': 0,\n",
       "   'scoreTeam2': 4,\n",
       "   'matchMinute': 35,\n",
       "   'goalGetterID': 18700,\n",
       "   'goalGetterName': 'J. Musiala',\n",
       "   'isPenalty': False,\n",
       "   'isOwnGoal': False,\n",
       "   'isOvertime': False,\n",
       "   'comment': None},\n",
       "  {'goalID': 95054,\n",
       "   'scoreTeam1': 0,\n",
       "   'scoreTeam2': 5,\n",
       "   'matchMinute': 43,\n",
       "   'goalGetterID': 18085,\n",
       "   'goalGetterName': 'Gnabry',\n",
       "   'isPenalty': False,\n",
       "   'isOwnGoal': False,\n",
       "   'isOvertime': False,\n",
       "   'comment': None},\n",
       "  {'goalID': 95055,\n",
       "   'scoreTeam1': 1,\n",
       "   'scoreTeam2': 5,\n",
       "   'matchMinute': 64,\n",
       "   'goalGetterID': 19448,\n",
       "   'goalGetterName': 'Kolo Muani',\n",
       "   'isPenalty': False,\n",
       "   'isOwnGoal': False,\n",
       "   'isOvertime': False,\n",
       "   'comment': None},\n",
       "  {'goalID': 95056,\n",
       "   'scoreTeam1': 1,\n",
       "   'scoreTeam2': 6,\n",
       "   'matchMinute': 83,\n",
       "   'goalGetterID': 18700,\n",
       "   'goalGetterName': 'J. Musiala',\n",
       "   'isPenalty': False,\n",
       "   'isOwnGoal': False,\n",
       "   'isOvertime': False,\n",
       "   'comment': None},\n",
       "  {'goalID': 95377,\n",
       "   'scoreTeam1': 1,\n",
       "   'scoreTeam2': 7,\n",
       "   'matchMinute': None,\n",
       "   'goalGetterID': 0,\n",
       "   'goalGetterName': '',\n",
       "   'isPenalty': False,\n",
       "   'isOwnGoal': False,\n",
       "   'isOvertime': False,\n",
       "   'comment': None}],\n",
       " 'location': {'locationID': 30,\n",
       "  'locationCity': 'Frankfurt',\n",
       "  'locationStadium': 'Commerzbank Arena'},\n",
       " 'numberOfViewers': None}"
      ]
     },
     "execution_count": 130,
     "metadata": {},
     "output_type": "execute_result"
    }
   ],
   "source": [
    "response.json()[0]"
   ]
  },
  {
   "cell_type": "code",
   "execution_count": 97,
   "id": "95039909-0c28-4ffe-83e5-cb04ed70c224",
   "metadata": {},
   "outputs": [],
   "source": [
    "home_team = df.iloc[3, 1][0]['homeTeam']['name']\n",
    "away_team = df.iloc[3, 1][0]['awayTeam']['name']\n",
    "score_home = df.iloc[3, 1][0]['score']['fullTime']['home']\n",
    "score_away = df.iloc[3, 1][0]['score']['fullTime']['away']\n",
    "winner = df.iloc[3, 1][0]['season']['winner']['name']"
   ]
  },
  {
   "cell_type": "code",
   "execution_count": null,
   "id": "b83087ca-ab85-4340-a818-11d8dc42eef3",
   "metadata": {},
   "outputs": [],
   "source": []
  },
  {
   "cell_type": "code",
   "execution_count": null,
   "id": "679f128c-9a1c-4003-88de-bc85e6020fa9",
   "metadata": {},
   "outputs": [],
   "source": []
  },
  {
   "cell_type": "code",
   "execution_count": null,
   "id": "bde76419-a3c1-4154-bb5e-05f5ef5d4884",
   "metadata": {},
   "outputs": [],
   "source": []
  },
  {
   "cell_type": "code",
   "execution_count": null,
   "id": "9a2ca05c-a166-4063-9111-6c48ccd05f39",
   "metadata": {},
   "outputs": [],
   "source": []
  }
 ],
 "metadata": {
  "kernelspec": {
   "display_name": "Python 3 (ipykernel)",
   "language": "python",
   "name": "python3"
  },
  "language_info": {
   "codemirror_mode": {
    "name": "ipython",
    "version": 3
   },
   "file_extension": ".py",
   "mimetype": "text/x-python",
   "name": "python",
   "nbconvert_exporter": "python",
   "pygments_lexer": "ipython3",
   "version": "3.8.12"
  }
 },
 "nbformat": 4,
 "nbformat_minor": 5
}
