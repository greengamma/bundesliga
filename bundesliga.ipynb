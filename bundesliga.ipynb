{
 "cells": [
  {
   "cell_type": "markdown",
   "id": "23d84aae-dd41-44d3-931a-aab6f8b30f74",
   "metadata": {},
   "source": [
    "### 1. Imports"
   ]
  },
  {
   "cell_type": "code",
   "execution_count": 1,
   "id": "f3042c07-dad2-42ad-85b1-fbeb0f1215cf",
   "metadata": {},
   "outputs": [],
   "source": [
    "import requests\n",
    "import json\n",
    "import pandas as pd"
   ]
  },
  {
   "cell_type": "code",
   "execution_count": 2,
   "id": "e3db4d0e-92db-4a8c-beaa-2707afcc7077",
   "metadata": {},
   "outputs": [],
   "source": [
    "uri = 'https://api.football-data.org/v4/competitions/BL1/matches?season=2020'\n",
    "headers = {'X-Auth-Token': '941e5424e9374e28817b075859d2867c'}"
   ]
  },
  {
   "cell_type": "code",
   "execution_count": 3,
   "id": "d4042f11-b931-4ffc-9e60-f40001b46ded",
   "metadata": {},
   "outputs": [],
   "source": [
    "response = requests.get(uri, headers=headers)"
   ]
  },
  {
   "cell_type": "code",
   "execution_count": 14,
   "id": "095870da-b939-4b97-9327-11fdd016c474",
   "metadata": {},
   "outputs": [],
   "source": [
    "df = pd.DataFrame.from_dict(response.json().items())"
   ]
  },
  {
   "cell_type": "code",
   "execution_count": 47,
   "id": "250aa978-b287-4259-999e-782b353e5393",
   "metadata": {},
   "outputs": [],
   "source": [
    "df.rename(columns={0: 'item', 1: 'entry'}, inplace=True)"
   ]
  },
  {
   "cell_type": "code",
   "execution_count": 52,
   "id": "a9c93858-2efc-44ac-9bf5-8a8fbe78b509",
   "metadata": {},
   "outputs": [
    {
     "data": {
      "text/html": [
       "<div>\n",
       "<style scoped>\n",
       "    .dataframe tbody tr th:only-of-type {\n",
       "        vertical-align: middle;\n",
       "    }\n",
       "\n",
       "    .dataframe tbody tr th {\n",
       "        vertical-align: top;\n",
       "    }\n",
       "\n",
       "    .dataframe thead th {\n",
       "        text-align: right;\n",
       "    }\n",
       "</style>\n",
       "<table border=\"1\" class=\"dataframe\">\n",
       "  <thead>\n",
       "    <tr style=\"text-align: right;\">\n",
       "      <th></th>\n",
       "      <th>item</th>\n",
       "      <th>entry</th>\n",
       "    </tr>\n",
       "  </thead>\n",
       "  <tbody>\n",
       "    <tr>\n",
       "      <th>0</th>\n",
       "      <td>filters</td>\n",
       "      <td>{'season': 2020}</td>\n",
       "    </tr>\n",
       "    <tr>\n",
       "      <th>1</th>\n",
       "      <td>resultSet</td>\n",
       "      <td>{'count': 306, 'first': '2020-09-18', 'last': ...</td>\n",
       "    </tr>\n",
       "    <tr>\n",
       "      <th>2</th>\n",
       "      <td>competition</td>\n",
       "      <td>{'id': 2002, 'name': 'Bundesliga', 'code': 'BL...</td>\n",
       "    </tr>\n",
       "    <tr>\n",
       "      <th>3</th>\n",
       "      <td>matches</td>\n",
       "      <td>[{'area': {'id': 2088, 'name': 'Germany', 'cod...</td>\n",
       "    </tr>\n",
       "  </tbody>\n",
       "</table>\n",
       "</div>"
      ],
      "text/plain": [
       "          item                                              entry\n",
       "0      filters                                   {'season': 2020}\n",
       "1    resultSet  {'count': 306, 'first': '2020-09-18', 'last': ...\n",
       "2  competition  {'id': 2002, 'name': 'Bundesliga', 'code': 'BL...\n",
       "3      matches  [{'area': {'id': 2088, 'name': 'Germany', 'cod..."
      ]
     },
     "execution_count": 52,
     "metadata": {},
     "output_type": "execute_result"
    }
   ],
   "source": [
    "df"
   ]
  },
  {
   "cell_type": "code",
   "execution_count": 85,
   "id": "03627387-c656-47e2-956c-d320e66b3912",
   "metadata": {},
   "outputs": [],
   "source": [
    "winner = df.iloc[3, 1][0]['season']['winner']['name']"
   ]
  },
  {
   "cell_type": "code",
   "execution_count": null,
   "id": "79a966b2-b4c5-4661-a463-e1213242d8ac",
   "metadata": {},
   "outputs": [],
   "source": [
    "home_team = df.iloc[3, 1][0]['homeTeam']['name']"
   ]
  },
  {
   "cell_type": "code",
   "execution_count": 92,
   "id": "ec58827c-480c-40ef-bc0f-0e6bed1ab3d2",
   "metadata": {},
   "outputs": [],
   "source": [
    "away_team = df.iloc[3, 1][0]['awayTeam']['name']"
   ]
  },
  {
   "cell_type": "code",
   "execution_count": 96,
   "id": "dbfee717-c9c2-44c7-b656-e780c1842a9a",
   "metadata": {},
   "outputs": [],
   "source": [
    "score_home = df.iloc[3, 1][0]['score']['fullTime']['home']"
   ]
  },
  {
   "cell_type": "code",
   "execution_count": 97,
   "id": "95039909-0c28-4ffe-83e5-cb04ed70c224",
   "metadata": {},
   "outputs": [],
   "source": [
    "score_away = df.iloc[3, 1][0]['score']['fullTime']['away']"
   ]
  },
  {
   "cell_type": "code",
   "execution_count": null,
   "id": "b83087ca-ab85-4340-a818-11d8dc42eef3",
   "metadata": {},
   "outputs": [],
   "source": []
  },
  {
   "cell_type": "code",
   "execution_count": null,
   "id": "679f128c-9a1c-4003-88de-bc85e6020fa9",
   "metadata": {},
   "outputs": [],
   "source": []
  },
  {
   "cell_type": "code",
   "execution_count": null,
   "id": "bde76419-a3c1-4154-bb5e-05f5ef5d4884",
   "metadata": {},
   "outputs": [],
   "source": []
  },
  {
   "cell_type": "code",
   "execution_count": null,
   "id": "9a2ca05c-a166-4063-9111-6c48ccd05f39",
   "metadata": {},
   "outputs": [],
   "source": []
  }
 ],
 "metadata": {
  "kernelspec": {
   "display_name": "Python 3 (ipykernel)",
   "language": "python",
   "name": "python3"
  },
  "language_info": {
   "codemirror_mode": {
    "name": "ipython",
    "version": 3
   },
   "file_extension": ".py",
   "mimetype": "text/x-python",
   "name": "python",
   "nbconvert_exporter": "python",
   "pygments_lexer": "ipython3",
   "version": "3.8.12"
  }
 },
 "nbformat": 4,
 "nbformat_minor": 5
}
