{
 "cells": [
  {
   "cell_type": "markdown",
   "id": "23d84aae-dd41-44d3-931a-aab6f8b30f74",
   "metadata": {},
   "source": [
    "### 1. Imports"
   ]
  },
  {
   "cell_type": "code",
   "execution_count": 1,
   "id": "f3042c07-dad2-42ad-85b1-fbeb0f1215cf",
   "metadata": {},
   "outputs": [],
   "source": [
    "import requests\n",
    "import json\n",
    "import pandas as pd"
   ]
  },
  {
   "cell_type": "markdown",
   "id": "dd7070ae-b4c1-41ba-bcc9-a30e9bbe59c5",
   "metadata": {},
   "source": [
    "### 2. Get user input "
   ]
  },
  {
   "cell_type": "code",
   "execution_count": 2,
   "id": "809220ad-3303-48ed-a5e9-edb31e34f071",
   "metadata": {},
   "outputs": [],
   "source": [
    "# Create dict of available teams\n",
    "team_dict = {'bayern': 40,\n",
    "             'dortmund': 7,\n",
    "             'schalke': 9}"
   ]
  },
  {
   "cell_type": "code",
   "execution_count": 3,
   "id": "a1f3efdf-d993-44e7-bf16-8987ebc2114f",
   "metadata": {},
   "outputs": [
    {
     "name": "stdin",
     "output_type": "stream",
     "text": [
      "What's the name of the home team? bayern\n"
     ]
    }
   ],
   "source": [
    "home_team = input(\"What's the name of the home team?\")\n",
    "home_team = home_team.lower()"
   ]
  },
  {
   "cell_type": "code",
   "execution_count": 4,
   "id": "2545a8d1-f4bc-4588-af57-f5bc1c31355b",
   "metadata": {
    "tags": []
   },
   "outputs": [
    {
     "name": "stdin",
     "output_type": "stream",
     "text": [
      "What's the name of the away team? dortmund\n"
     ]
    }
   ],
   "source": [
    "away_team = input(\"What's the name of the away team?\")\n",
    "away_team = away_team.lower()"
   ]
  },
  {
   "cell_type": "code",
   "execution_count": 5,
   "id": "5a970af4-0614-4227-81c6-80c6710b75cd",
   "metadata": {},
   "outputs": [],
   "source": [
    "# Check if team exists\n",
    "def check_team(home_team, away_team, team_dict):\n",
    "    if home_team in team_dict and away_team in team_dict:\n",
    "        home = team_dict[home_team]\n",
    "        away = team_dict[away_team]\n",
    "        return home, away\n",
    "    else:\n",
    "        return None, None"
   ]
  },
  {
   "cell_type": "code",
   "execution_count": 6,
   "id": "a252d306-f811-4ceb-aece-444ab59ce0bd",
   "metadata": {},
   "outputs": [],
   "source": [
    "home, away = check_team(home_team, away_team, team_dict)"
   ]
  },
  {
   "cell_type": "markdown",
   "id": "247e41d2-ee08-4e86-acab-b7041a93f23c",
   "metadata": {},
   "source": [
    "### 3. API call / get the data"
   ]
  },
  {
   "cell_type": "code",
   "execution_count": 7,
   "id": "ec58827c-480c-40ef-bc0f-0e6bed1ab3d2",
   "metadata": {},
   "outputs": [],
   "source": [
    "# Get the match data for both teams: team1 is the HOME and team2 is the AWAY team\n",
    "url = f'https://api.openligadb.de/getmatchdata/{home}/{away}'\n",
    "response = requests.get(url)"
   ]
  },
  {
   "cell_type": "code",
   "execution_count": 55,
   "id": "dc60e832-c3dd-46a9-bb70-3603a31b0c74",
   "metadata": {},
   "outputs": [],
   "source": [
    "home_counter = 0\n",
    "away_counter = 0\n",
    "draw_counter = 0\n",
    "\n",
    "for x in range(0, len(response.json())):\n",
    "    \n",
    "    try:\n",
    "        if response.json()[x]['team1']['teamId'] == home:\n",
    "            goals_team1 = response.json()[x]['matchResults'][0]['pointsTeam1']\n",
    "            goals_team2 = response.json()[x]['matchResults'][0]['pointsTeam2']\n",
    "            if goals_team1 > goals_team2:\n",
    "                home_counter += 1\n",
    "            elif goals_team1 < goals_team2:\n",
    "                away_counter += 1\n",
    "            else: \n",
    "                draw_counter += 1\n",
    "    except IndexError:\n",
    "        #print(response.json()[x]['matchID'])\n",
    "        #print(f'Number: {x}')\n",
    "        #print('nothingburger')\n",
    "        continue"
   ]
  },
  {
   "cell_type": "code",
   "execution_count": 58,
   "id": "0516b0e9-8de1-4903-b0ac-411d76b07945",
   "metadata": {},
   "outputs": [
    {
     "data": {
      "text/plain": [
       "7"
      ]
     },
     "execution_count": 58,
     "metadata": {},
     "output_type": "execute_result"
    }
   ],
   "source": [
    "away_counter"
   ]
  },
  {
   "cell_type": "code",
   "execution_count": null,
   "id": "5070f363-23c2-4a66-850b-07b3a83b3288",
   "metadata": {},
   "outputs": [],
   "source": []
  },
  {
   "cell_type": "code",
   "execution_count": null,
   "id": "8c30f071-c216-4f07-b721-cec71e39ff61",
   "metadata": {},
   "outputs": [],
   "source": []
  },
  {
   "cell_type": "code",
   "execution_count": null,
   "id": "d30f5de2-1b16-44d0-9441-396c9175b920",
   "metadata": {},
   "outputs": [],
   "source": [
    "for x in range(0, len(response.json())):\n",
    "     if home_team in response.json()[x]['team1']['teamName'].lower():\n",
    "            home_counter += 1\n",
    "     else:\n",
    "         away_counter += 1"
   ]
  },
  {
   "cell_type": "code",
   "execution_count": null,
   "id": "7e6b064b-9a64-461b-9493-83a646981eda",
   "metadata": {},
   "outputs": [],
   "source": []
  },
  {
   "cell_type": "code",
   "execution_count": null,
   "id": "679f128c-9a1c-4003-88de-bc85e6020fa9",
   "metadata": {},
   "outputs": [],
   "source": []
  },
  {
   "cell_type": "code",
   "execution_count": null,
   "id": "bde76419-a3c1-4154-bb5e-05f5ef5d4884",
   "metadata": {},
   "outputs": [],
   "source": []
  },
  {
   "cell_type": "code",
   "execution_count": null,
   "id": "9a2ca05c-a166-4063-9111-6c48ccd05f39",
   "metadata": {},
   "outputs": [],
   "source": []
  }
 ],
 "metadata": {
  "kernelspec": {
   "display_name": "Python 3 (ipykernel)",
   "language": "python",
   "name": "python3"
  },
  "language_info": {
   "codemirror_mode": {
    "name": "ipython",
    "version": 3
   },
   "file_extension": ".py",
   "mimetype": "text/x-python",
   "name": "python",
   "nbconvert_exporter": "python",
   "pygments_lexer": "ipython3",
   "version": "3.8.12"
  }
 },
 "nbformat": 4,
 "nbformat_minor": 5
}
