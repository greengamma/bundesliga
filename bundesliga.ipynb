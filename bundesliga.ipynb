{
 "cells": [
  {
   "cell_type": "markdown",
   "id": "23d84aae-dd41-44d3-931a-aab6f8b30f74",
   "metadata": {},
   "source": [
    "### 1. Imports"
   ]
  },
  {
   "cell_type": "code",
   "execution_count": 5,
   "id": "f3042c07-dad2-42ad-85b1-fbeb0f1215cf",
   "metadata": {},
   "outputs": [],
   "source": [
    "import requests\n",
    "import json\n",
    "import pandas as pd"
   ]
  },
  {
   "cell_type": "markdown",
   "id": "dd7070ae-b4c1-41ba-bcc9-a30e9bbe59c5",
   "metadata": {},
   "source": [
    "### 2. Get user input "
   ]
  },
  {
   "cell_type": "code",
   "execution_count": 11,
   "id": "809220ad-3303-48ed-a5e9-edb31e34f071",
   "metadata": {},
   "outputs": [],
   "source": [
    "# Create dict of available teams\n",
    "team_dict = {'bayern': 40,\n",
    "             'dortmund': 7}"
   ]
  },
  {
   "cell_type": "code",
   "execution_count": 13,
   "id": "a1f3efdf-d993-44e7-bf16-8987ebc2114f",
   "metadata": {},
   "outputs": [
    {
     "name": "stdin",
     "output_type": "stream",
     "text": [
      "What's the name of the home team? bayern\n"
     ]
    }
   ],
   "source": [
    "home_team = input(\"What's the name of the home team?\")\n",
    "home_team = home_team.lower()"
   ]
  },
  {
   "cell_type": "code",
   "execution_count": 51,
   "id": "2545a8d1-f4bc-4588-af57-f5bc1c31355b",
   "metadata": {
    "tags": []
   },
   "outputs": [
    {
     "name": "stdin",
     "output_type": "stream",
     "text": [
      "What's the name of the away team? dortmund\n"
     ]
    }
   ],
   "source": [
    "away_team = input(\"What's the name of the away team?\")\n",
    "away_team = away_team.lower()"
   ]
  },
  {
   "cell_type": "code",
   "execution_count": 52,
   "id": "5a970af4-0614-4227-81c6-80c6710b75cd",
   "metadata": {},
   "outputs": [],
   "source": [
    "# Check if team exists\n",
    "def check_team(home_team, away_team, team_dict):\n",
    "    if home_team in team_dict and away_team in team_dict:\n",
    "        home = team_dict[home_team]\n",
    "        away = team_dict[away_team]\n",
    "        return home, away\n",
    "    else:\n",
    "        return None, None"
   ]
  },
  {
   "cell_type": "code",
   "execution_count": 53,
   "id": "a252d306-f811-4ceb-aece-444ab59ce0bd",
   "metadata": {},
   "outputs": [],
   "source": [
    "home, away = check_team(home_team, away_team, team_dict)"
   ]
  },
  {
   "cell_type": "markdown",
   "id": "247e41d2-ee08-4e86-acab-b7041a93f23c",
   "metadata": {},
   "source": [
    "### 3. API call / get the data"
   ]
  },
  {
   "cell_type": "code",
   "execution_count": 131,
   "id": "ec58827c-480c-40ef-bc0f-0e6bed1ab3d2",
   "metadata": {},
   "outputs": [],
   "source": [
    "url = 'https://api.openligadb.de/getmatchdata/40/7'\n",
    "response = requests.get(url)"
   ]
  },
  {
   "cell_type": "code",
   "execution_count": 130,
   "id": "dbfee717-c9c2-44c7-b656-e780c1842a9a",
   "metadata": {
    "collapsed": true,
    "jupyter": {
     "outputs_hidden": true
    },
    "tags": []
   },
   "outputs": [
    {
     "data": {
      "text/plain": [
       "{'matchID': 63864,\n",
       " 'matchDateTime': '2022-08-05T20:30:00',\n",
       " 'timeZoneID': 'W. Europe Standard Time',\n",
       " 'leagueId': 4562,\n",
       " 'leagueName': '1. Fußball-Bundesliga 2022/2023',\n",
       " 'leagueSeason': 2022,\n",
       " 'leagueShortcut': 'bl1',\n",
       " 'matchDateTimeUTC': '2022-08-05T18:30:00Z',\n",
       " 'group': {'groupName': '1. Spieltag', 'groupOrderID': 1, 'groupID': 39881},\n",
       " 'team1': {'teamId': 91,\n",
       "  'teamName': 'Eintracht Frankfurt',\n",
       "  'shortName': 'Frankfurt',\n",
       "  'teamIconUrl': 'https://i.imgur.com/X8NFkOb.png',\n",
       "  'teamGroupName': None},\n",
       " 'team2': {'teamId': 40,\n",
       "  'teamName': 'FC Bayern München',\n",
       "  'shortName': 'Bayern',\n",
       "  'teamIconUrl': 'https://i.imgur.com/jJEsJrj.png',\n",
       "  'teamGroupName': None},\n",
       " 'lastUpdateDateTime': '2022-08-14T09:42:12.96',\n",
       " 'matchIsFinished': True,\n",
       " 'matchResults': [{'resultID': 98425,\n",
       "   'resultName': 'Endergebnis',\n",
       "   'pointsTeam1': 1,\n",
       "   'pointsTeam2': 6,\n",
       "   'resultOrderID': 1,\n",
       "   'resultTypeID': 2,\n",
       "   'resultDescription': 'Ergebnis nach Ende der offiziellen Spielzeit'},\n",
       "  {'resultID': 98426,\n",
       "   'resultName': 'Halbzeit',\n",
       "   'pointsTeam1': 0,\n",
       "   'pointsTeam2': 5,\n",
       "   'resultOrderID': 2,\n",
       "   'resultTypeID': 1,\n",
       "   'resultDescription': 'Zwischenstand zur Halbzeit'}],\n",
       " 'goals': [{'goalID': 95046,\n",
       "   'scoreTeam1': 0,\n",
       "   'scoreTeam2': 1,\n",
       "   'matchMinute': 5,\n",
       "   'goalGetterID': 14935,\n",
       "   'goalGetterName': ' Kimmich',\n",
       "   'isPenalty': False,\n",
       "   'isOwnGoal': False,\n",
       "   'isOvertime': False,\n",
       "   'comment': None},\n",
       "  {'goalID': 95047,\n",
       "   'scoreTeam1': 0,\n",
       "   'scoreTeam2': 2,\n",
       "   'matchMinute': 11,\n",
       "   'goalGetterID': 16143,\n",
       "   'goalGetterName': 'Pavard',\n",
       "   'isPenalty': False,\n",
       "   'isOwnGoal': False,\n",
       "   'isOvertime': False,\n",
       "   'comment': None},\n",
       "  {'goalID': 95049,\n",
       "   'scoreTeam1': 0,\n",
       "   'scoreTeam2': 3,\n",
       "   'matchMinute': 16,\n",
       "   'goalGetterID': 14661,\n",
       "   'goalGetterName': 'Mane',\n",
       "   'isPenalty': False,\n",
       "   'isOwnGoal': False,\n",
       "   'isOvertime': False,\n",
       "   'comment': None},\n",
       "  {'goalID': 95053,\n",
       "   'scoreTeam1': 0,\n",
       "   'scoreTeam2': 4,\n",
       "   'matchMinute': 35,\n",
       "   'goalGetterID': 18700,\n",
       "   'goalGetterName': 'J. Musiala',\n",
       "   'isPenalty': False,\n",
       "   'isOwnGoal': False,\n",
       "   'isOvertime': False,\n",
       "   'comment': None},\n",
       "  {'goalID': 95054,\n",
       "   'scoreTeam1': 0,\n",
       "   'scoreTeam2': 5,\n",
       "   'matchMinute': 43,\n",
       "   'goalGetterID': 18085,\n",
       "   'goalGetterName': 'Gnabry',\n",
       "   'isPenalty': False,\n",
       "   'isOwnGoal': False,\n",
       "   'isOvertime': False,\n",
       "   'comment': None},\n",
       "  {'goalID': 95055,\n",
       "   'scoreTeam1': 1,\n",
       "   'scoreTeam2': 5,\n",
       "   'matchMinute': 64,\n",
       "   'goalGetterID': 19448,\n",
       "   'goalGetterName': 'Kolo Muani',\n",
       "   'isPenalty': False,\n",
       "   'isOwnGoal': False,\n",
       "   'isOvertime': False,\n",
       "   'comment': None},\n",
       "  {'goalID': 95056,\n",
       "   'scoreTeam1': 1,\n",
       "   'scoreTeam2': 6,\n",
       "   'matchMinute': 83,\n",
       "   'goalGetterID': 18700,\n",
       "   'goalGetterName': 'J. Musiala',\n",
       "   'isPenalty': False,\n",
       "   'isOwnGoal': False,\n",
       "   'isOvertime': False,\n",
       "   'comment': None},\n",
       "  {'goalID': 95377,\n",
       "   'scoreTeam1': 1,\n",
       "   'scoreTeam2': 7,\n",
       "   'matchMinute': None,\n",
       "   'goalGetterID': 0,\n",
       "   'goalGetterName': '',\n",
       "   'isPenalty': False,\n",
       "   'isOwnGoal': False,\n",
       "   'isOvertime': False,\n",
       "   'comment': None}],\n",
       " 'location': {'locationID': 30,\n",
       "  'locationCity': 'Frankfurt',\n",
       "  'locationStadium': 'Commerzbank Arena'},\n",
       " 'numberOfViewers': None}"
      ]
     },
     "execution_count": 130,
     "metadata": {},
     "output_type": "execute_result"
    }
   ],
   "source": [
    "response.json()[0]"
   ]
  },
  {
   "cell_type": "code",
   "execution_count": 97,
   "id": "95039909-0c28-4ffe-83e5-cb04ed70c224",
   "metadata": {},
   "outputs": [],
   "source": [
    "home_team = df.iloc[3, 1][0]['homeTeam']['name']\n",
    "away_team = df.iloc[3, 1][0]['awayTeam']['name']\n",
    "score_home = df.iloc[3, 1][0]['score']['fullTime']['home']\n",
    "score_away = df.iloc[3, 1][0]['score']['fullTime']['away']\n",
    "winner = df.iloc[3, 1][0]['season']['winner']['name']"
   ]
  },
  {
   "cell_type": "code",
   "execution_count": null,
   "id": "b83087ca-ab85-4340-a818-11d8dc42eef3",
   "metadata": {},
   "outputs": [],
   "source": []
  },
  {
   "cell_type": "code",
   "execution_count": null,
   "id": "679f128c-9a1c-4003-88de-bc85e6020fa9",
   "metadata": {},
   "outputs": [],
   "source": []
  },
  {
   "cell_type": "code",
   "execution_count": null,
   "id": "bde76419-a3c1-4154-bb5e-05f5ef5d4884",
   "metadata": {},
   "outputs": [],
   "source": []
  },
  {
   "cell_type": "code",
   "execution_count": null,
   "id": "9a2ca05c-a166-4063-9111-6c48ccd05f39",
   "metadata": {},
   "outputs": [],
   "source": []
  }
 ],
 "metadata": {
  "kernelspec": {
   "display_name": "Python 3 (ipykernel)",
   "language": "python",
   "name": "python3"
  },
  "language_info": {
   "codemirror_mode": {
    "name": "ipython",
    "version": 3
   },
   "file_extension": ".py",
   "mimetype": "text/x-python",
   "name": "python",
   "nbconvert_exporter": "python",
   "pygments_lexer": "ipython3",
   "version": "3.8.12"
  }
 },
 "nbformat": 4,
 "nbformat_minor": 5
}
